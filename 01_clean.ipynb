{
 "cells": [
  {
   "cell_type": "markdown",
   "metadata": {},
   "source": [
    "# A generational model of support for gun control\n",
    "\n",
    "Allen Downey\n",
    "\n",
    "[MIT License](https://en.wikipedia.org/wiki/MIT_License)"
   ]
  },
  {
   "cell_type": "code",
   "execution_count": 1,
   "metadata": {},
   "outputs": [],
   "source": [
    "# Configure Jupyter so figures appear in the notebook\n",
    "%matplotlib inline\n",
    "\n",
    "# Configure Jupyter to display the assigned value after an assignment\n",
    "%config InteractiveShell.ast_node_interactivity='last_expr_or_assign'\n",
    "\n",
    "import pandas as pd\n",
    "import numpy as np\n",
    "\n",
    "from empyrical_dist import Cdf\n",
    "import utils\n",
    "\n",
    "import matplotlib.pyplot as plt\n",
    "\n",
    "import seaborn as sns\n",
    "sns.set(style='white', context='talk')"
   ]
  },
  {
   "cell_type": "markdown",
   "metadata": {},
   "source": [
    "## Load and inventory\n",
    "\n",
    "Reading data from the [General Social Survey](https://gssdataexplorer.norc.org/projects/29853)\n",
    "\n",
    "You can get my selected subset of variables from \n",
    "https://gssdataexplorer.norc.org/projects/48515"
   ]
  },
  {
   "cell_type": "code",
   "execution_count": 2,
   "metadata": {},
   "outputs": [
    {
     "name": "stdout",
     "output_type": "stream",
     "text": [
      "(64814, 25)\n"
     ]
    },
    {
     "data": {
      "text/html": [
       "<div>\n",
       "<style scoped>\n",
       "    .dataframe tbody tr th:only-of-type {\n",
       "        vertical-align: middle;\n",
       "    }\n",
       "\n",
       "    .dataframe tbody tr th {\n",
       "        vertical-align: top;\n",
       "    }\n",
       "\n",
       "    .dataframe thead th {\n",
       "        text-align: right;\n",
       "    }\n",
       "</style>\n",
       "<table border=\"1\" class=\"dataframe\">\n",
       "  <thead>\n",
       "    <tr style=\"text-align: right;\">\n",
       "      <th></th>\n",
       "      <th>year</th>\n",
       "      <th>gunage</th>\n",
       "      <th>gunnum</th>\n",
       "      <th>owngun</th>\n",
       "      <th>rowngun</th>\n",
       "      <th>realinc</th>\n",
       "      <th>conrinc</th>\n",
       "      <th>hispanic</th>\n",
       "      <th>cohort</th>\n",
       "      <th>ballot</th>\n",
       "      <th>...</th>\n",
       "      <th>age</th>\n",
       "      <th>educ</th>\n",
       "      <th>sex</th>\n",
       "      <th>race</th>\n",
       "      <th>income</th>\n",
       "      <th>rincome</th>\n",
       "      <th>srcbelt</th>\n",
       "      <th>polviews</th>\n",
       "      <th>natcrime</th>\n",
       "      <th>adults</th>\n",
       "    </tr>\n",
       "  </thead>\n",
       "  <tbody>\n",
       "    <tr>\n",
       "      <th>0</th>\n",
       "      <td>1972</td>\n",
       "      <td>0</td>\n",
       "      <td>0</td>\n",
       "      <td>0</td>\n",
       "      <td>0</td>\n",
       "      <td>18951.0</td>\n",
       "      <td>0.0</td>\n",
       "      <td>0</td>\n",
       "      <td>1949</td>\n",
       "      <td>0</td>\n",
       "      <td>...</td>\n",
       "      <td>23</td>\n",
       "      <td>16</td>\n",
       "      <td>2</td>\n",
       "      <td>1</td>\n",
       "      <td>0</td>\n",
       "      <td>0</td>\n",
       "      <td>3</td>\n",
       "      <td>0</td>\n",
       "      <td>0</td>\n",
       "      <td>1</td>\n",
       "    </tr>\n",
       "    <tr>\n",
       "      <th>1</th>\n",
       "      <td>1972</td>\n",
       "      <td>0</td>\n",
       "      <td>0</td>\n",
       "      <td>0</td>\n",
       "      <td>0</td>\n",
       "      <td>24366.0</td>\n",
       "      <td>0.0</td>\n",
       "      <td>0</td>\n",
       "      <td>1902</td>\n",
       "      <td>0</td>\n",
       "      <td>...</td>\n",
       "      <td>70</td>\n",
       "      <td>10</td>\n",
       "      <td>1</td>\n",
       "      <td>1</td>\n",
       "      <td>0</td>\n",
       "      <td>0</td>\n",
       "      <td>3</td>\n",
       "      <td>0</td>\n",
       "      <td>0</td>\n",
       "      <td>2</td>\n",
       "    </tr>\n",
       "    <tr>\n",
       "      <th>2</th>\n",
       "      <td>1972</td>\n",
       "      <td>0</td>\n",
       "      <td>0</td>\n",
       "      <td>0</td>\n",
       "      <td>0</td>\n",
       "      <td>24366.0</td>\n",
       "      <td>0.0</td>\n",
       "      <td>0</td>\n",
       "      <td>1924</td>\n",
       "      <td>0</td>\n",
       "      <td>...</td>\n",
       "      <td>48</td>\n",
       "      <td>12</td>\n",
       "      <td>2</td>\n",
       "      <td>1</td>\n",
       "      <td>0</td>\n",
       "      <td>0</td>\n",
       "      <td>3</td>\n",
       "      <td>0</td>\n",
       "      <td>0</td>\n",
       "      <td>2</td>\n",
       "    </tr>\n",
       "    <tr>\n",
       "      <th>3</th>\n",
       "      <td>1972</td>\n",
       "      <td>0</td>\n",
       "      <td>0</td>\n",
       "      <td>0</td>\n",
       "      <td>0</td>\n",
       "      <td>30458.0</td>\n",
       "      <td>0.0</td>\n",
       "      <td>0</td>\n",
       "      <td>1945</td>\n",
       "      <td>0</td>\n",
       "      <td>...</td>\n",
       "      <td>27</td>\n",
       "      <td>17</td>\n",
       "      <td>2</td>\n",
       "      <td>1</td>\n",
       "      <td>0</td>\n",
       "      <td>0</td>\n",
       "      <td>3</td>\n",
       "      <td>0</td>\n",
       "      <td>0</td>\n",
       "      <td>2</td>\n",
       "    </tr>\n",
       "    <tr>\n",
       "      <th>4</th>\n",
       "      <td>1972</td>\n",
       "      <td>0</td>\n",
       "      <td>0</td>\n",
       "      <td>0</td>\n",
       "      <td>0</td>\n",
       "      <td>50763.0</td>\n",
       "      <td>0.0</td>\n",
       "      <td>0</td>\n",
       "      <td>1911</td>\n",
       "      <td>0</td>\n",
       "      <td>...</td>\n",
       "      <td>61</td>\n",
       "      <td>12</td>\n",
       "      <td>2</td>\n",
       "      <td>1</td>\n",
       "      <td>0</td>\n",
       "      <td>0</td>\n",
       "      <td>3</td>\n",
       "      <td>0</td>\n",
       "      <td>0</td>\n",
       "      <td>2</td>\n",
       "    </tr>\n",
       "  </tbody>\n",
       "</table>\n",
       "<p>5 rows × 25 columns</p>\n",
       "</div>"
      ],
      "text/plain": [
       "   year  gunage  gunnum  owngun  rowngun  realinc  conrinc  hispanic  cohort  \\\n",
       "0  1972       0       0       0        0  18951.0      0.0         0    1949   \n",
       "1  1972       0       0       0        0  24366.0      0.0         0    1902   \n",
       "2  1972       0       0       0        0  24366.0      0.0         0    1924   \n",
       "3  1972       0       0       0        0  30458.0      0.0         0    1945   \n",
       "4  1972       0       0       0        0  50763.0      0.0         0    1911   \n",
       "\n",
       "   ballot  ...  age  educ  sex  race  income  rincome  srcbelt  polviews  \\\n",
       "0       0  ...   23    16    2     1       0        0        3         0   \n",
       "1       0  ...   70    10    1     1       0        0        3         0   \n",
       "2       0  ...   48    12    2     1       0        0        3         0   \n",
       "3       0  ...   27    17    2     1       0        0        3         0   \n",
       "4       0  ...   61    12    2     1       0        0        3         0   \n",
       "\n",
       "   natcrime  adults  \n",
       "0         0       1  \n",
       "1         0       2  \n",
       "2         0       2  \n",
       "3         0       2  \n",
       "4         0       2  \n",
       "\n",
       "[5 rows x 25 columns]"
      ]
     },
     "execution_count": 2,
     "metadata": {},
     "output_type": "execute_result"
    }
   ],
   "source": [
    "gss = utils.read_gss('gss_gun')\n",
    "print(gss.shape)\n",
    "gss.head()"
   ]
  },
  {
   "cell_type": "code",
   "execution_count": 3,
   "metadata": {},
   "outputs": [],
   "source": [
    "def replace_invalid(df):\n",
    "    df.gunlaw.replace([8, 9, 0], np.nan, inplace=True)\n",
    "    df.owngun.replace([3, 8, 9, 0], np.nan, inplace=True)\n",
    "    df.gun.replace([8, 9, 0], np.nan, inplace=True)\n",
    "    df.natcrime.replace([8, 9, 0], np.nan, inplace=True)\n",
    "    df.income.replace([0, 13, 98, 99], np.nan, inplace=True)\n",
    "    df.realinc.replace([0], np.nan, inplace=True)                  # TODO: check this\n",
    "    df.educ.replace([98,99], np.nan, inplace=True)\n",
    "    df.polviews.replace([8, 9, 0], np.nan, inplace=True)\n",
    "    df.age.replace([98, 99], np.nan, inplace=True)               # 89 means 89 or older\n",
    "    df.hispanic.replace([98, 99, 0], np.nan, inplace=True)\n",
    "    df.cohort.replace([9999], np.nan, inplace=True)"
   ]
  },
  {
   "cell_type": "code",
   "execution_count": 4,
   "metadata": {},
   "outputs": [
    {
     "data": {
      "text/plain": [
       "(64814, 25)"
      ]
     },
     "execution_count": 4,
     "metadata": {},
     "output_type": "execute_result"
    }
   ],
   "source": [
    "replace_invalid(gss)\n",
    "gss.shape"
   ]
  },
  {
   "cell_type": "code",
   "execution_count": 5,
   "metadata": {},
   "outputs": [],
   "source": [
    "def numnull(series):\n",
    "    return sum(series.isnull())"
   ]
  },
  {
   "cell_type": "markdown",
   "metadata": {},
   "source": [
    "### Variable `gunlaw`\n",
    "\n",
    "Would you favor or oppose a law which would require a person to obtain a police permit before he or she could buy a gun?\n",
    "\n",
    "https://gssdataexplorer.norc.org/projects/41723/variables/272/vshow"
   ]
  },
  {
   "cell_type": "code",
   "execution_count": 6,
   "metadata": {},
   "outputs": [
    {
     "data": {
      "text/plain": [
       "22801"
      ]
     },
     "execution_count": 6,
     "metadata": {},
     "output_type": "execute_result"
    }
   ],
   "source": [
    "numnull(gss.gunlaw)"
   ]
  },
  {
   "cell_type": "code",
   "execution_count": 7,
   "metadata": {},
   "outputs": [
    {
     "data": {
      "text/plain": [
       "1.0    32038\n",
       "2.0     9975\n",
       "Name: gunlaw, dtype: int64"
      ]
     },
     "execution_count": 7,
     "metadata": {},
     "output_type": "execute_result"
    }
   ],
   "source": [
    "utils.values(gss, 'gunlaw')"
   ]
  },
  {
   "cell_type": "markdown",
   "metadata": {},
   "source": [
    "### Variable `owngun`\n",
    "\n",
    "Do you happen to have in your home (IF HOUSE: or garage) any guns or revolvers?\n",
    "\n",
    "https://gssdataexplorer.norc.org/projects/41723/variables/679/vshow"
   ]
  },
  {
   "cell_type": "code",
   "execution_count": 8,
   "metadata": {},
   "outputs": [
    {
     "data": {
      "text/plain": [
       "25644"
      ]
     },
     "execution_count": 8,
     "metadata": {},
     "output_type": "execute_result"
    }
   ],
   "source": [
    "numnull(gss.owngun)"
   ]
  },
  {
   "cell_type": "code",
   "execution_count": 9,
   "metadata": {
    "scrolled": false
   },
   "outputs": [
    {
     "data": {
      "text/plain": [
       "1.0    15659\n",
       "2.0    23511\n",
       "Name: owngun, dtype: int64"
      ]
     },
     "execution_count": 9,
     "metadata": {},
     "output_type": "execute_result"
    }
   ],
   "source": [
    "utils.values(gss, 'owngun')"
   ]
  },
  {
   "cell_type": "markdown",
   "metadata": {},
   "source": [
    "### Variable `gun`\n",
    "\n",
    "Have you ever been threatened with a gun, or shot at? \n",
    "\n",
    "https://gssdataexplorer.norc.org/projects/41723/variables/661/vshow"
   ]
  },
  {
   "cell_type": "code",
   "execution_count": 10,
   "metadata": {},
   "outputs": [
    {
     "data": {
      "text/plain": [
       "45486"
      ]
     },
     "execution_count": 10,
     "metadata": {},
     "output_type": "execute_result"
    }
   ],
   "source": [
    "numnull(gss.gun)"
   ]
  },
  {
   "cell_type": "code",
   "execution_count": 11,
   "metadata": {
    "scrolled": false
   },
   "outputs": [
    {
     "data": {
      "text/plain": [
       "1.0     3775\n",
       "2.0    15553\n",
       "Name: gun, dtype: int64"
      ]
     },
     "execution_count": 11,
     "metadata": {},
     "output_type": "execute_result"
    }
   ],
   "source": [
    "utils.values(gss, 'gun')"
   ]
  },
  {
   "cell_type": "markdown",
   "metadata": {},
   "source": [
    "### Variable `natcrime`\n",
    "\n",
    "We are faced with many problems in this country, none of which can be solved easily or inexpensively. I'm going to name some of these problems, and for each one I'd like you to name some of these problems, and for each one I'd like you to tell me whether you think we're spending too much money on it, too little money, or about the right amount. First (READ ITEM A) . . . are we spending too much, too little, or about the right amount on (ITEM)? \n",
    "E. Halting the rising crime rate\n",
    "\n",
    "[Note: the wording of this question assumes that crime rates are rising!]\n",
    "\n",
    "https://gssdataexplorer.norc.org/projects/41723/variables/185/vshow"
   ]
  },
  {
   "cell_type": "code",
   "execution_count": 12,
   "metadata": {},
   "outputs": [
    {
     "data": {
      "text/plain": [
       "29279"
      ]
     },
     "execution_count": 12,
     "metadata": {},
     "output_type": "execute_result"
    }
   ],
   "source": [
    "numnull(gss.natcrime)"
   ]
  },
  {
   "cell_type": "code",
   "execution_count": 13,
   "metadata": {
    "scrolled": false
   },
   "outputs": [
    {
     "data": {
      "text/plain": [
       "1.0    23971\n",
       "2.0     9384\n",
       "3.0     2180\n",
       "Name: natcrime, dtype: int64"
      ]
     },
     "execution_count": 13,
     "metadata": {},
     "output_type": "execute_result"
    }
   ],
   "source": [
    "utils.values(gss, 'natcrime')"
   ]
  },
  {
   "cell_type": "markdown",
   "metadata": {},
   "source": [
    "### Variable `income`\n",
    "\n",
    "In which of these groups did your total family income, from all sources, fall last year before taxes, that is?\n",
    "\n"
   ]
  },
  {
   "cell_type": "code",
   "execution_count": 14,
   "metadata": {},
   "outputs": [
    {
     "data": {
      "text/plain": [
       "8326"
      ]
     },
     "execution_count": 14,
     "metadata": {},
     "output_type": "execute_result"
    }
   ],
   "source": [
    "varname = 'income'\n",
    "numnull(gss[varname])"
   ]
  },
  {
   "cell_type": "code",
   "execution_count": 15,
   "metadata": {},
   "outputs": [
    {
     "data": {
      "text/plain": [
       "1.0       799\n",
       "2.0      1329\n",
       "3.0      1272\n",
       "4.0      1167\n",
       "5.0      1281\n",
       "6.0      1223\n",
       "7.0      1281\n",
       "8.0      2191\n",
       "9.0      6496\n",
       "10.0     5046\n",
       "11.0     5187\n",
       "12.0    29216\n",
       "Name: income, dtype: int64"
      ]
     },
     "execution_count": 15,
     "metadata": {},
     "output_type": "execute_result"
    }
   ],
   "source": [
    "utils.values(gss, varname)"
   ]
  },
  {
   "cell_type": "code",
   "execution_count": 16,
   "metadata": {
    "scrolled": false
   },
   "outputs": [
    {
     "data": {
      "text/plain": [
       "count    56488.000000\n",
       "mean        10.068546\n",
       "std          2.835886\n",
       "min          1.000000\n",
       "25%          9.000000\n",
       "50%         12.000000\n",
       "75%         12.000000\n",
       "max         12.000000\n",
       "Name: income, dtype: float64"
      ]
     },
     "execution_count": 16,
     "metadata": {},
     "output_type": "execute_result"
    }
   ],
   "source": [
    "gss[varname].describe()"
   ]
  },
  {
   "cell_type": "markdown",
   "metadata": {},
   "source": [
    "### Variable `realinc`\n",
    "\n",
    "Family income on 1972-2006 surveys in constant dollars (base = 1986)\n",
    "\n",
    "https://gssdataexplorer.norc.org/variables/5198/vshow\n"
   ]
  },
  {
   "cell_type": "code",
   "execution_count": 17,
   "metadata": {},
   "outputs": [
    {
     "data": {
      "text/plain": [
       "6521"
      ]
     },
     "execution_count": 17,
     "metadata": {},
     "output_type": "execute_result"
    }
   ],
   "source": [
    "varname = 'realinc'\n",
    "numnull(gss[varname])"
   ]
  },
  {
   "cell_type": "code",
   "execution_count": 18,
   "metadata": {
    "scrolled": false
   },
   "outputs": [
    {
     "data": {
      "text/plain": [
       "count     58293.000000\n",
       "mean      31714.223806\n",
       "std       29471.362947\n",
       "min         227.000000\n",
       "25%       12080.625000\n",
       "50%       24097.500000\n",
       "75%       39875.000000\n",
       "max      162607.000000\n",
       "Name: realinc, dtype: float64"
      ]
     },
     "execution_count": 18,
     "metadata": {},
     "output_type": "execute_result"
    }
   ],
   "source": [
    "gss[varname].describe()"
   ]
  },
  {
   "cell_type": "markdown",
   "metadata": {},
   "source": [
    "### Variable `educ`\n",
    "\n",
    "A. What is the highest grade in elementary school or high school that (you/your father/ your mother/your [husband/wife]) finished and got credit for? CODE EXACT GRADE. \n",
    "B. IF FINISHED 9th-12th GRADE OR DK*: Did (you/he/she) ever get a high school diploma or a GED certificate? [SEE D BELOW.] [See REMARKS] \n",
    "C. Did (you/he/she) complete one or more years of college for credit--not including schooling such as business college, technical or vocational school? IF YES: How many years did (you/he/she) complete? \n",
    "Do you (Does [he/she]) have any college degrees? (IF YES: What degree or degrees?) CODE HIGHEST DEGREE EARNED.\n",
    "\n",
    "https://gssdataexplorer.norc.org/projects/41723/variables/55/vshow\n"
   ]
  },
  {
   "cell_type": "code",
   "execution_count": 19,
   "metadata": {},
   "outputs": [
    {
     "data": {
      "text/plain": [
       "177"
      ]
     },
     "execution_count": 19,
     "metadata": {},
     "output_type": "execute_result"
    }
   ],
   "source": [
    "varname = 'educ'\n",
    "numnull(gss[varname])"
   ]
  },
  {
   "cell_type": "code",
   "execution_count": 20,
   "metadata": {
    "scrolled": false
   },
   "outputs": [
    {
     "data": {
      "text/plain": [
       "0.0       165\n",
       "1.0        47\n",
       "2.0       152\n",
       "3.0       257\n",
       "4.0       319\n",
       "5.0       402\n",
       "6.0       828\n",
       "7.0       879\n",
       "8.0      2724\n",
       "9.0      2083\n",
       "10.0     2880\n",
       "11.0     3743\n",
       "12.0    19663\n",
       "13.0     5360\n",
       "14.0     7160\n",
       "15.0     2910\n",
       "16.0     8355\n",
       "17.0     1967\n",
       "18.0     2384\n",
       "19.0      920\n",
       "20.0     1439\n",
       "Name: educ, dtype: int64"
      ]
     },
     "execution_count": 20,
     "metadata": {},
     "output_type": "execute_result"
    }
   ],
   "source": [
    "utils.values(gss, varname)"
   ]
  },
  {
   "cell_type": "markdown",
   "metadata": {},
   "source": [
    "### Variable `polviews`\n",
    "\n",
    "\n",
    "A. We hear a lot of talk these days about liberals and conservatives. \n",
    "I'm going to show you a seven-point scale on which the political views that people might hold are arranged from extremely liberal--point 1--to extremely conservative--point 7. Where would you place yourself on this scale?\n",
    "\n",
    "https://gssdataexplorer.norc.org/projects/41723/variables/178/vshow"
   ]
  },
  {
   "cell_type": "code",
   "execution_count": 21,
   "metadata": {},
   "outputs": [
    {
     "data": {
      "text/plain": [
       "9486"
      ]
     },
     "execution_count": 21,
     "metadata": {},
     "output_type": "execute_result"
    }
   ],
   "source": [
    "varname = 'polviews'\n",
    "numnull(gss[varname])"
   ]
  },
  {
   "cell_type": "code",
   "execution_count": 22,
   "metadata": {},
   "outputs": [
    {
     "data": {
      "text/plain": [
       "1.0     1682\n",
       "2.0     6514\n",
       "3.0     7010\n",
       "4.0    21370\n",
       "5.0     8690\n",
       "6.0     8230\n",
       "7.0     1832\n",
       "Name: polviews, dtype: int64"
      ]
     },
     "execution_count": 22,
     "metadata": {},
     "output_type": "execute_result"
    }
   ],
   "source": [
    "utils.values(gss, varname)"
   ]
  },
  {
   "cell_type": "markdown",
   "metadata": {},
   "source": [
    "### Age \n",
    "\n",
    "https://gssdataexplorer.norc.org/projects/29853/variables/53/vshow"
   ]
  },
  {
   "cell_type": "code",
   "execution_count": 23,
   "metadata": {},
   "outputs": [
    {
     "data": {
      "text/plain": [
       "228"
      ]
     },
     "execution_count": 23,
     "metadata": {},
     "output_type": "execute_result"
    }
   ],
   "source": [
    "numnull(gss.age)"
   ]
  },
  {
   "cell_type": "code",
   "execution_count": 24,
   "metadata": {},
   "outputs": [
    {
     "data": {
      "image/png": "[encoded data removed]",
      "text/plain": [
       "<Figure size 432x288 with 1 Axes>"
      ]
     },
     "metadata": {
      "needs_background": "light"
     },
     "output_type": "display_data"
    }
   ],
   "source": [
    "Cdf.from_seq(gss.age).plot()\n",
    "utils.decorate(xlabel='Age', ylabel='CDF')"
   ]
  },
  {
   "cell_type": "markdown",
   "metadata": {},
   "source": [
    "### Year of birth \n",
    "\n",
    "https://gssdataexplorer.norc.org/projects/29853/variables/5507/vshow"
   ]
  },
  {
   "cell_type": "code",
   "execution_count": 25,
   "metadata": {},
   "outputs": [
    {
     "data": {
      "text/plain": [
       "228"
      ]
     },
     "execution_count": 25,
     "metadata": {},
     "output_type": "execute_result"
    }
   ],
   "source": [
    "numnull(gss.cohort)"
   ]
  },
  {
   "cell_type": "code",
   "execution_count": 26,
   "metadata": {
    "scrolled": true
   },
   "outputs": [
    {
     "data": {
      "image/png": "[encoded data removed]",
      "text/plain": [
       "<Figure size 432x288 with 1 Axes>"
      ]
     },
     "metadata": {
      "needs_background": "light"
     },
     "output_type": "display_data"
    }
   ],
   "source": [
    "Cdf.from_seq(gss.cohort).plot()\n",
    "utils.decorate(xlabel='Year of birth', ylabel='CDF')"
   ]
  },
  {
   "cell_type": "code",
   "execution_count": 27,
   "metadata": {},
   "outputs": [
    {
     "data": {
      "text/plain": [
       "1883.0      2\n",
       "1884.0      3\n",
       "1885.0      7\n",
       "1886.0      4\n",
       "1887.0     13\n",
       "1888.0     10\n",
       "1889.0     21\n",
       "1890.0     27\n",
       "1891.0     27\n",
       "1892.0     31\n",
       "1893.0     34\n",
       "1894.0     61\n",
       "1895.0     55\n",
       "1896.0     73\n",
       "1897.0     72\n",
       "1898.0    105\n",
       "1899.0    123\n",
       "1900.0    130\n",
       "1901.0    138\n",
       "1902.0    163\n",
       "1903.0    173\n",
       "1904.0    182\n",
       "1905.0    219\n",
       "1906.0    207\n",
       "1907.0    263\n",
       "1908.0    246\n",
       "1909.0    330\n",
       "1910.0    285\n",
       "1911.0    318\n",
       "1912.0    348\n",
       "         ... \n",
       "1971.0    689\n",
       "1972.0    679\n",
       "1973.0    640\n",
       "1974.0    638\n",
       "1975.0    570\n",
       "1976.0    565\n",
       "1977.0    576\n",
       "1978.0    498\n",
       "1979.0    547\n",
       "1980.0    488\n",
       "1981.0    468\n",
       "1982.0    398\n",
       "1983.0    365\n",
       "1984.0    376\n",
       "1985.0    352\n",
       "1986.0    292\n",
       "1987.0    268\n",
       "1988.0    232\n",
       "1989.0    245\n",
       "1990.0    179\n",
       "1991.0    180\n",
       "1992.0    123\n",
       "1993.0    136\n",
       "1994.0    120\n",
       "1995.0     87\n",
       "1996.0     72\n",
       "1997.0     61\n",
       "1998.0     22\n",
       "1999.0     26\n",
       "2000.0     22\n",
       "Name: cohort, Length: 118, dtype: int64"
      ]
     },
     "execution_count": 27,
     "metadata": {},
     "output_type": "execute_result"
    }
   ],
   "source": [
    "utils.values(gss, 'cohort')"
   ]
  },
  {
   "cell_type": "markdown",
   "metadata": {},
   "source": [
    "### Sex \n",
    "\n",
    "https://gssdataexplorer.norc.org/projects/41723/variables/81/vshow"
   ]
  },
  {
   "cell_type": "code",
   "execution_count": 28,
   "metadata": {},
   "outputs": [
    {
     "data": {
      "text/plain": [
       "0"
      ]
     },
     "execution_count": 28,
     "metadata": {},
     "output_type": "execute_result"
    }
   ],
   "source": [
    "numnull(gss.sex)"
   ]
  },
  {
   "cell_type": "code",
   "execution_count": 29,
   "metadata": {
    "scrolled": true
   },
   "outputs": [
    {
     "data": {
      "text/plain": [
       "1    28614\n",
       "2    36200\n",
       "Name: sex, dtype: int64"
      ]
     },
     "execution_count": 29,
     "metadata": {},
     "output_type": "execute_result"
    }
   ],
   "source": [
    "utils.values(gss, 'sex')"
   ]
  },
  {
   "cell_type": "markdown",
   "metadata": {},
   "source": [
    "### Race\n",
    "\n",
    "https://gssdataexplorer.norc.org/projects/41723/variables/82/vshow\n",
    "\n",
    "CODE WITHOUT ASKING ONLY IF THERE IS NO DOUBT IN YOUR MIND. \n",
    "What race do you consider yourself? RECORD VERBATIM AND CODE."
   ]
  },
  {
   "cell_type": "code",
   "execution_count": 30,
   "metadata": {},
   "outputs": [
    {
     "data": {
      "text/plain": [
       "0"
      ]
     },
     "execution_count": 30,
     "metadata": {},
     "output_type": "execute_result"
    }
   ],
   "source": [
    "numnull(gss.race)"
   ]
  },
  {
   "cell_type": "code",
   "execution_count": 31,
   "metadata": {
    "scrolled": false
   },
   "outputs": [
    {
     "data": {
      "text/plain": [
       "1    52033\n",
       "2     9187\n",
       "3     3594\n",
       "Name: race, dtype: int64"
      ]
     },
     "execution_count": 31,
     "metadata": {},
     "output_type": "execute_result"
    }
   ],
   "source": [
    "utils.values(gss, 'race')"
   ]
  },
  {
   "cell_type": "markdown",
   "metadata": {},
   "source": [
    "### Hispanic \n",
    "\n"
   ]
  },
  {
   "cell_type": "code",
   "execution_count": 32,
   "metadata": {
    "scrolled": true
   },
   "outputs": [
    {
     "data": {
      "text/plain": [
       "38164"
      ]
     },
     "execution_count": 32,
     "metadata": {},
     "output_type": "execute_result"
    }
   ],
   "source": [
    "numnull(gss.hispanic)"
   ]
  },
  {
   "cell_type": "code",
   "execution_count": 33,
   "metadata": {},
   "outputs": [
    {
     "data": {
      "text/plain": [
       "1.0     23555\n",
       "2.0      1885\n",
       "3.0       384\n",
       "4.0       130\n",
       "5.0        98\n",
       "6.0        66\n",
       "7.0        15\n",
       "8.0        19\n",
       "9.0         4\n",
       "10.0       27\n",
       "11.0       41\n",
       "15.0       73\n",
       "16.0        1\n",
       "20.0       27\n",
       "21.0       38\n",
       "22.0       41\n",
       "23.0       14\n",
       "24.0       12\n",
       "25.0        4\n",
       "30.0      136\n",
       "31.0        2\n",
       "35.0        7\n",
       "40.0        5\n",
       "41.0       24\n",
       "42.0        1\n",
       "45.0        3\n",
       "46.0       12\n",
       "47.0       16\n",
       "50.0       10\n",
       "Name: hispanic, dtype: int64"
      ]
     },
     "execution_count": 33,
     "metadata": {},
     "output_type": "execute_result"
    }
   ],
   "source": [
    "utils.values(gss, 'hispanic')"
   ]
  },
  {
   "cell_type": "markdown",
   "metadata": {},
   "source": [
    "### srcbelt\n",
    "\n",
    "C. SRC (SURVEY RESEARCH CENTER, UNIVERSITY OF MICHIGAN) NEW BELT CODE\n",
    "\n",
    "https://gssdataexplorer.norc.org/projects/41723/variables/121/vshow"
   ]
  },
  {
   "cell_type": "code",
   "execution_count": 34,
   "metadata": {},
   "outputs": [
    {
     "data": {
      "text/plain": [
       "0"
      ]
     },
     "execution_count": 34,
     "metadata": {},
     "output_type": "execute_result"
    }
   ],
   "source": [
    "numnull(gss.srcbelt)"
   ]
  },
  {
   "cell_type": "code",
   "execution_count": 35,
   "metadata": {
    "scrolled": true
   },
   "outputs": [
    {
     "data": {
      "text/plain": [
       "1     5805\n",
       "2     9015\n",
       "3     7445\n",
       "4     9786\n",
       "5    24324\n",
       "6     8439\n",
       "Name: srcbelt, dtype: int64"
      ]
     },
     "execution_count": 35,
     "metadata": {},
     "output_type": "execute_result"
    }
   ],
   "source": [
    "utils.values(gss, 'srcbelt')"
   ]
  },
  {
   "cell_type": "markdown",
   "metadata": {},
   "source": [
    "## Remove rows missing key variables"
   ]
  },
  {
   "cell_type": "code",
   "execution_count": 36,
   "metadata": {},
   "outputs": [
    {
     "data": {
      "text/plain": [
       "(64814, 25)"
      ]
     },
     "execution_count": 36,
     "metadata": {},
     "output_type": "execute_result"
    }
   ],
   "source": [
    "gss.shape"
   ]
  },
  {
   "cell_type": "code",
   "execution_count": 37,
   "metadata": {},
   "outputs": [
    {
     "data": {
      "text/plain": [
       "(41878, 25)"
      ]
     },
     "execution_count": 37,
     "metadata": {},
     "output_type": "execute_result"
    }
   ],
   "source": [
    "gss = gss.dropna(subset=['gunlaw', 'age', 'cohort'])\n",
    "gss.shape"
   ]
  },
  {
   "cell_type": "markdown",
   "metadata": {},
   "source": [
    "## Optionally, cut off 2018 data"
   ]
  },
  {
   "cell_type": "code",
   "execution_count": 38,
   "metadata": {},
   "outputs": [
    {
     "data": {
      "text/plain": [
       "False"
      ]
     },
     "execution_count": 38,
     "metadata": {},
     "output_type": "execute_result"
    }
   ],
   "source": [
    "cutoff = False"
   ]
  },
  {
   "cell_type": "code",
   "execution_count": 39,
   "metadata": {},
   "outputs": [],
   "source": [
    "if cutoff:\n",
    "    cutoff_year = 2016\n",
    "    gss = gss[gss.year <= cutoff_year];"
   ]
  },
  {
   "cell_type": "code",
   "execution_count": 40,
   "metadata": {},
   "outputs": [
    {
     "data": {
      "text/plain": [
       "(41878, 25)"
      ]
     },
     "execution_count": 40,
     "metadata": {},
     "output_type": "execute_result"
    }
   ],
   "source": [
    "gss.shape"
   ]
  },
  {
   "cell_type": "markdown",
   "metadata": {},
   "source": [
    "## Fill missing values"
   ]
  },
  {
   "cell_type": "code",
   "execution_count": 41,
   "metadata": {},
   "outputs": [],
   "source": [
    "def fill_missing_column(df, colname):\n",
    "    \"\"\"Fills missing values of the given column.\n",
    "\n",
    "    df: DataFrame\n",
    "    colname: string\n",
    "    \"\"\"\n",
    "    null = df[df[colname].isnull()]\n",
    "\n",
    "    #print(colname, len(null))\n",
    "\n",
    "    valid = df[colname].dropna()\n",
    "    fill = valid.sample(len(null), replace=True)\n",
    "    fill.index = null.index\n",
    "\n",
    "    df[colname].fillna(fill, inplace=True)"
   ]
  },
  {
   "cell_type": "code",
   "execution_count": 42,
   "metadata": {},
   "outputs": [],
   "source": [
    "def fill_age(df):\n",
    "    \"\"\"Fills age based on year and cohort.\n",
    "    \n",
    "    df: DataFrame\n",
    "    \"\"\"\n",
    "    colname = 'age'\n",
    "    null = df[df[colname].isnull()]\n",
    "\n",
    "    #print('age', len(null))\n",
    "    \n",
    "    fill = df.year - df.cohort\n",
    "\n",
    "    df[colname].fillna(fill, inplace=True)"
   ]
  },
  {
   "cell_type": "code",
   "execution_count": 43,
   "metadata": {},
   "outputs": [],
   "source": [
    "def fill_all_missing(df):\n",
    "    varnames = ['owngun', 'gun', 'natcrime',\n",
    "                'income', 'realinc', 'educ', 'polviews',\n",
    "                'sex', 'race', 'hispanic', 'srcbelt']\n",
    "    for varname in varnames:\n",
    "        fill_missing_column(df, varname)\n",
    "        \n",
    "    # filling age is special because we have to fill cohort\n",
    "    # to be consistent\n",
    "    # but for generational analysis, we shouldn't fill age;\n",
    "    # it just messes things up\n",
    "    # fill_age(df)"
   ]
  },
  {
   "cell_type": "code",
   "execution_count": 44,
   "metadata": {},
   "outputs": [],
   "source": [
    "fill_all_missing(gss)"
   ]
  },
  {
   "cell_type": "markdown",
   "metadata": {},
   "source": [
    "### Make age and cohort groups"
   ]
  },
  {
   "cell_type": "code",
   "execution_count": 45,
   "metadata": {},
   "outputs": [],
   "source": [
    "def RoundIntoBins(df, var, bin_width, high=None, low=0):\n",
    "    \"\"\"Rounds values down to the bin they belong in.\n",
    "\n",
    "    df: DataFrame\n",
    "    var: string variable name\n",
    "    bin_width: number, width of the bins\n",
    "\n",
    "    returns: array of bin values\n",
    "    \"\"\"\n",
    "    if high is None:\n",
    "        high = df[var].max()\n",
    "\n",
    "    bins = np.arange(low, high+bin_width, bin_width)\n",
    "    indices = np.digitize(df[var], bins)\n",
    "    return bins[indices-1]"
   ]
  },
  {
   "cell_type": "code",
   "execution_count": 46,
   "metadata": {},
   "outputs": [],
   "source": [
    "if cutoff:\n",
    "    def make_groups(gss):\n",
    "        gss['cohort5'] = utils.RoundIntoBins(gss, 'cohort', 5, low=2) + 2.5    \n",
    "        gss.loc[gss.cohort5==1999.5, 'cohort5'] = 1994.5\n",
    "        gss.loc[gss.cohort5<1894, 'cohort5'] = 1894.5\n",
    "        gss['cohort10'] = utils.RoundIntoBins(gss, 'cohort', 10)\n",
    "        gss['year8'] = utils.RoundIntoBins(gss, 'year', 8)\n",
    "        gss['year4'] = utils.RoundIntoBins(gss, 'year', 4, low=1970) + 1\n",
    "        gss['age10'] = utils.RoundIntoBins(gss, 'age', 10) + 5\n",
    "        gss['age5'] = utils.RoundIntoBins(gss, 'age', 5) + 2.5\n",
    "        gss['age3'] = utils.RoundIntoBins(gss, 'age', 3, low=0) + 1.5\n",
    "else:\n",
    "    def make_groups(gss):\n",
    "        gss['cohort5'] = utils.RoundIntoBins(gss, 'cohort', 5, low=2) + 2.5    \n",
    "        gss.loc[gss.cohort5==1999.5, 'cohort5'] = 1994.5\n",
    "        gss.loc[gss.cohort5<1894, 'cohort5'] = 1894.5\n",
    "        gss['cohort10'] = utils.RoundIntoBins(gss, 'cohort', 10)\n",
    "        gss.loc[gss.cohort10==2000, 'cohort10'] = 1990\n",
    "        gss['year8'] = utils.RoundIntoBins(gss, 'year', 8)\n",
    "        gss['year4'] = utils.RoundIntoBins(gss, 'year', 4, low=1972) + 1\n",
    "        gss['age10'] = utils.RoundIntoBins(gss, 'age', 10) + 5\n",
    "        gss['age5'] = utils.RoundIntoBins(gss, 'age', 5) + 2.5\n",
    "        gss['age3'] = utils.RoundIntoBins(gss, 'age', 3, low=0) + 1.5"
   ]
  },
  {
   "cell_type": "code",
   "execution_count": 47,
   "metadata": {},
   "outputs": [
    {
     "data": {
      "text/plain": [
       "(41878, 32)"
      ]
     },
     "execution_count": 47,
     "metadata": {},
     "output_type": "execute_result"
    }
   ],
   "source": [
    "make_groups(gss)\n",
    "gss.shape"
   ]
  },
  {
   "cell_type": "markdown",
   "metadata": {},
   "source": [
    "Group people into 5- and 10-year bins by birth year."
   ]
  },
  {
   "cell_type": "code",
   "execution_count": 48,
   "metadata": {},
   "outputs": [
    {
     "data": {
      "text/plain": [
       "cohort5\n",
       "1894.5     316\n",
       "1899.5     443\n",
       "1904.5     722\n",
       "1909.5    1089\n",
       "1914.5    1500\n",
       "1919.5    1837\n",
       "1924.5    2145\n",
       "1929.5    2176\n",
       "1934.5    2360\n",
       "1939.5    2666\n",
       "1944.5    3404\n",
       "1949.5    4376\n",
       "1954.5    4247\n",
       "1959.5    3845\n",
       "1964.5    3061\n",
       "1969.5    2340\n",
       "1974.5    1772\n",
       "1979.5    1417\n",
       "1984.5    1033\n",
       "1989.5     707\n",
       "1994.5     422\n",
       "Name: gunlaw, dtype: int64"
      ]
     },
     "execution_count": 48,
     "metadata": {},
     "output_type": "execute_result"
    }
   ],
   "source": [
    "grouped_cohort = gss.groupby(['cohort5'])\n",
    "counts = grouped_cohort.gunlaw.count()"
   ]
  },
  {
   "cell_type": "code",
   "execution_count": 49,
   "metadata": {},
   "outputs": [
    {
     "data": {
      "text/plain": [
       "cohort10\n",
       "1880.0      53\n",
       "1890.0     502\n",
       "1900.0    1563\n",
       "1910.0    3024\n",
       "1920.0    4230\n",
       "1930.0    4762\n",
       "1940.0    7106\n",
       "1950.0    8438\n",
       "1960.0    5967\n",
       "1970.0    3535\n",
       "1980.0    2053\n",
       "1990.0     645\n",
       "Name: gunlaw, dtype: int64"
      ]
     },
     "execution_count": 49,
     "metadata": {},
     "output_type": "execute_result"
    }
   ],
   "source": [
    "grouped_cohort = gss.groupby(['cohort10'])\n",
    "counts = grouped_cohort.gunlaw.count()"
   ]
  },
  {
   "cell_type": "markdown",
   "metadata": {},
   "source": [
    "Here's the number of respondents in each year."
   ]
  },
  {
   "cell_type": "code",
   "execution_count": 50,
   "metadata": {},
   "outputs": [
    {
     "data": {
      "text/plain": [
       "1972    1559\n",
       "1973    1467\n",
       "1974    1453\n",
       "1975    1445\n",
       "1976    1467\n",
       "1977    1492\n",
       "1980    1430\n",
       "1982    1804\n",
       "1984    1424\n",
       "1985    1504\n",
       "1987    1769\n",
       "1988     944\n",
       "1989    1012\n",
       "1990     898\n",
       "1991     975\n",
       "1993    1051\n",
       "1994    1953\n",
       "1996    1878\n",
       "1998    1835\n",
       "2000    1807\n",
       "2002     913\n",
       "2004     889\n",
       "2006    1958\n",
       "2008    1329\n",
       "2010    1269\n",
       "2012    1278\n",
       "2014    1686\n",
       "2016    1850\n",
       "2018    1539\n",
       "Name: year, dtype: int64"
      ]
     },
     "execution_count": 50,
     "metadata": {},
     "output_type": "execute_result"
    }
   ],
   "source": [
    "utils.values(gss, 'year')"
   ]
  },
  {
   "cell_type": "markdown",
   "metadata": {},
   "source": [
    "Group into 4 year intervals."
   ]
  },
  {
   "cell_type": "code",
   "execution_count": 51,
   "metadata": {},
   "outputs": [
    {
     "data": {
      "text/plain": [
       "1973    5924\n",
       "1977    2959\n",
       "1981    3234\n",
       "1985    4697\n",
       "1989    3829\n",
       "1993    3004\n",
       "1997    3713\n",
       "2001    2720\n",
       "2005    2847\n",
       "2009    2598\n",
       "2013    2964\n",
       "2017    3389\n",
       "Name: year4, dtype: int64"
      ]
     },
     "execution_count": 51,
     "metadata": {},
     "output_type": "execute_result"
    }
   ],
   "source": [
    "utils.values(gss, 'year4')"
   ]
  },
  {
   "cell_type": "markdown",
   "metadata": {},
   "source": [
    "Group people into 5 and 3-year age groups."
   ]
  },
  {
   "cell_type": "code",
   "execution_count": 52,
   "metadata": {},
   "outputs": [
    {
     "data": {
      "text/plain": [
       "17.5     734\n",
       "22.5    3709\n",
       "27.5    4507\n",
       "32.5    4487\n",
       "37.5    4289\n",
       "42.5    3916\n",
       "47.5    3562\n",
       "52.5    3330\n",
       "57.5    3080\n",
       "62.5    2777\n",
       "67.5    2519\n",
       "72.5    1987\n",
       "77.5    1481\n",
       "82.5     856\n",
       "87.5     644\n",
       "Name: age5, dtype: int64"
      ]
     },
     "execution_count": 52,
     "metadata": {},
     "output_type": "execute_result"
    }
   ],
   "source": [
    "utils.values(gss, 'age5')"
   ]
  },
  {
   "cell_type": "code",
   "execution_count": 53,
   "metadata": {},
   "outputs": [
    {
     "data": {
      "text/plain": [
       "19.5    1358\n",
       "22.5    2277\n",
       "25.5    2563\n",
       "28.5    2752\n",
       "31.5    2713\n",
       "34.5    2634\n",
       "37.5    2632\n",
       "40.5    2396\n",
       "43.5    2317\n",
       "46.5    2123\n",
       "49.5    2118\n",
       "52.5    2032\n",
       "55.5    1870\n",
       "58.5    1829\n",
       "61.5    1733\n",
       "64.5    1579\n",
       "67.5    1507\n",
       "70.5    1350\n",
       "73.5    1114\n",
       "76.5     975\n",
       "79.5     718\n",
       "82.5     509\n",
       "85.5     380\n",
       "88.5     399\n",
       "Name: age3, dtype: int64"
      ]
     },
     "execution_count": 53,
     "metadata": {},
     "output_type": "execute_result"
    }
   ],
   "source": [
    "utils.values(gss, 'age3')"
   ]
  },
  {
   "cell_type": "markdown",
   "metadata": {},
   "source": [
    "### Make booleans"
   ]
  },
  {
   "cell_type": "code",
   "execution_count": 54,
   "metadata": {},
   "outputs": [],
   "source": [
    "def copy_nan(df, varname, newvar):\n",
    "    \"\"\"Put a NaN into newvar in any place where varname is Nan.\n",
    "    \n",
    "    df: DataFrame\n",
    "    varname: string old var name\n",
    "    newvar: string new var name\n",
    "    \"\"\"\n",
    "    df.loc[df[varname].isnull(), newvar] = np.nan"
   ]
  },
  {
   "cell_type": "code",
   "execution_count": 55,
   "metadata": {},
   "outputs": [],
   "source": [
    "def make_boolean(df, varname, values, newvar):\n",
    "    \"\"\"Make a boolean variable.\n",
    "    \n",
    "    df: DataFrame\n",
    "    varname: name of base variable\n",
    "    values: sequence of values for varname\n",
    "    newvar: name of new variable (recode)\n",
    "    \"\"\"\n",
    "    #assert numnull(df[varname]) == 0\n",
    "    df[newvar] = df[varname].isin(values)\n",
    "    copy_nan(df, varname, newvar)"
   ]
  },
  {
   "cell_type": "code",
   "execution_count": 56,
   "metadata": {},
   "outputs": [],
   "source": [
    "def make_booleans(df):\n",
    "    df['cohort10'] = utils.RoundIntoBins(df, 'cohort', 10)\n",
    "    make_boolean(df, 'cohort10', [1920], 'twenties')\n",
    "    make_boolean(df, 'cohort10', [1930], 'thirties')\n",
    "    make_boolean(df, 'cohort10', [1940], 'forties')\n",
    "    make_boolean(df, 'cohort10', [1950], 'fifties')\n",
    "    make_boolean(df, 'cohort10', [1960], 'sixties')\n",
    "    make_boolean(df, 'cohort10', [1970], 'seventies')\n",
    "    make_boolean(df, 'cohort10', [1980], 'eighties')\n",
    "    make_boolean(df, 'cohort10', [1990], 'nineties')\n",
    "    make_boolean(df, 'gunlaw', [1.0], 'favor')\n",
    "    make_boolean(df, 'owngun', [1.0], 'gunhome')\n",
    "    make_boolean(df, 'gun', [1.0], 'threatened')\n",
    "    make_boolean(df, 'natcrime', [1.0], 'spendcrime')\n",
    "    make_boolean(df, 'income', [12], 'topincome')\n",
    "    make_boolean(df, 'income', [1,2,3,4,5,6,7,8], 'lowincome')\n",
    "    make_boolean(df, 'polviews', [1,2,3], 'liberal')\n",
    "    make_boolean(df, 'polviews', [4], 'moderate')\n",
    "    make_boolean(df, 'polviews', [6,7,8], 'conservative')\n",
    "    make_boolean(df, 'sex', [2], 'female')\n",
    "    make_boolean(df, 'hispanic', [2], 'ishisp')\n",
    "    make_boolean(df, 'race', [2], 'black')\n",
    "    make_boolean(df, 'race', [3], 'otherrace')\n",
    "    make_boolean(df, 'srcbelt', [1,2,5], 'urban')\n",
    "    make_boolean(df, 'srcbelt', [3,4], 'suburban')\n",
    "    make_boolean(df, 'srcbelt', [6], 'rural')\n",
    "\n",
    "    df['college'] = df['educ'] >= 13 \n",
    "    copy_nan(df, 'educ', 'college')\n",
    "    \n",
    "    quantile25 = df['realinc'].quantile(0.25)\n",
    "    df['lowrealinc'] = df['realinc'] <= quantile25 \n",
    "    copy_nan(df, 'realinc', 'lowrealinc')\n",
    "\n",
    "    quantile75 = df['realinc'].quantile(0.75)\n",
    "    df['highrealinc'] = df['realinc'] >= quantile75 \n",
    "    copy_nan(df, 'realinc', 'highrealinc')"
   ]
  },
  {
   "cell_type": "code",
   "execution_count": 57,
   "metadata": {},
   "outputs": [],
   "source": [
    "make_booleans(gss)"
   ]
  },
  {
   "cell_type": "markdown",
   "metadata": {},
   "source": [
    "### Center cohort, age, and year."
   ]
  },
  {
   "cell_type": "code",
   "execution_count": 58,
   "metadata": {},
   "outputs": [],
   "source": [
    "def center_factors(df):\n",
    "    \"\"\"Center factors around their means.\n",
    "    \n",
    "    Add centered factors to make the coeffients\n",
    "    of the model easier to interpret.\n",
    "    \n",
    "    df: DataFrame\n",
    "    \"\"\"\n",
    "    df['ones'] = np.ones_like(df.cohort)\n",
    "    df['c'] = df.cohort - 1966\n",
    "    df['a'] = df.age - 47\n",
    "    df['y'] = df.year - 1990\n",
    "    \n",
    "    # also add quadratic factors and interaction term\n",
    "    df['c2'] = df.c**2\n",
    "    df['a2'] = df.a**2\n",
    "    df['y2'] = df.y**2\n",
    "    df['y3'] = df.y**3\n",
    "    df['ac'] = df.a * df.c"
   ]
  },
  {
   "cell_type": "code",
   "execution_count": 59,
   "metadata": {},
   "outputs": [],
   "source": [
    "center_factors(gss)"
   ]
  },
  {
   "cell_type": "code",
   "execution_count": 60,
   "metadata": {},
   "outputs": [
    {
     "name": "stdout",
     "output_type": "stream",
     "text": [
      "c -18.849777926357515\n",
      "a -1.0722097521371603\n",
      "y 3.0780123215053248\n"
     ]
    }
   ],
   "source": [
    "for varname in ['c', 'a', 'y']:\n",
    "    print(varname, gss[varname].mean())"
   ]
  },
  {
   "cell_type": "markdown",
   "metadata": {},
   "source": [
    "### Resample\n",
    "\n",
    "Divide the sample up by year; resample within each year, using sampling weights; then concatenate the annual samples."
   ]
  },
  {
   "cell_type": "code",
   "execution_count": 61,
   "metadata": {},
   "outputs": [
    {
     "data": {
      "text/plain": [
       "(41878, 68)"
      ]
     },
     "execution_count": 61,
     "metadata": {},
     "output_type": "execute_result"
    }
   ],
   "source": [
    "sample = utils.resample_by_year(gss).copy()\n",
    "sample.shape"
   ]
  },
  {
   "cell_type": "code",
   "execution_count": 62,
   "metadata": {},
   "outputs": [
    {
     "data": {
      "text/plain": [
       "0.0    37676\n",
       "1.0     4202\n",
       "Name: twenties, dtype: int64"
      ]
     },
     "execution_count": 62,
     "metadata": {},
     "output_type": "execute_result"
    }
   ],
   "source": [
    "utils.values(sample, 'twenties')"
   ]
  },
  {
   "cell_type": "code",
   "execution_count": 63,
   "metadata": {},
   "outputs": [
    {
     "data": {
      "text/plain": [
       "0.0    37146\n",
       "1.0     4732\n",
       "Name: thirties, dtype: int64"
      ]
     },
     "execution_count": 63,
     "metadata": {},
     "output_type": "execute_result"
    }
   ],
   "source": [
    "utils.values(sample, 'thirties')"
   ]
  },
  {
   "cell_type": "code",
   "execution_count": 64,
   "metadata": {},
   "outputs": [
    {
     "data": {
      "text/plain": [
       "0.0    34922\n",
       "1.0     6956\n",
       "Name: forties, dtype: int64"
      ]
     },
     "execution_count": 64,
     "metadata": {},
     "output_type": "execute_result"
    }
   ],
   "source": [
    "utils.values(sample, 'forties')"
   ]
  },
  {
   "cell_type": "code",
   "execution_count": 65,
   "metadata": {},
   "outputs": [
    {
     "data": {
      "text/plain": [
       "0.0    33439\n",
       "1.0     8439\n",
       "Name: fifties, dtype: int64"
      ]
     },
     "execution_count": 65,
     "metadata": {},
     "output_type": "execute_result"
    }
   ],
   "source": [
    "utils.values(sample, 'fifties')"
   ]
  },
  {
   "cell_type": "code",
   "execution_count": 66,
   "metadata": {},
   "outputs": [
    {
     "data": {
      "text/plain": [
       "0.0    35540\n",
       "1.0     6338\n",
       "Name: sixties, dtype: int64"
      ]
     },
     "execution_count": 66,
     "metadata": {},
     "output_type": "execute_result"
    }
   ],
   "source": [
    "utils.values(sample, 'sixties')"
   ]
  },
  {
   "cell_type": "code",
   "execution_count": 67,
   "metadata": {},
   "outputs": [
    {
     "data": {
      "text/plain": [
       "0.0    38099\n",
       "1.0     3779\n",
       "Name: seventies, dtype: int64"
      ]
     },
     "execution_count": 67,
     "metadata": {},
     "output_type": "execute_result"
    }
   ],
   "source": [
    "utils.values(sample, 'seventies')"
   ]
  },
  {
   "cell_type": "code",
   "execution_count": 68,
   "metadata": {},
   "outputs": [
    {
     "data": {
      "text/plain": [
       "0.0    39723\n",
       "1.0     2155\n",
       "Name: eighties, dtype: int64"
      ]
     },
     "execution_count": 68,
     "metadata": {},
     "output_type": "execute_result"
    }
   ],
   "source": [
    "utils.values(sample, 'eighties')"
   ]
  },
  {
   "cell_type": "code",
   "execution_count": 69,
   "metadata": {},
   "outputs": [
    {
     "data": {
      "text/plain": [
       "0.0    41054\n",
       "1.0      824\n",
       "Name: nineties, dtype: int64"
      ]
     },
     "execution_count": 69,
     "metadata": {},
     "output_type": "execute_result"
    }
   ],
   "source": [
    "utils.values(sample, 'nineties')"
   ]
  },
  {
   "cell_type": "code",
   "execution_count": 70,
   "metadata": {},
   "outputs": [
    {
     "data": {
      "text/plain": [
       "0.0    10031\n",
       "1.0    31847\n",
       "Name: favor, dtype: int64"
      ]
     },
     "execution_count": 70,
     "metadata": {},
     "output_type": "execute_result"
    }
   ],
   "source": [
    "utils.values(sample, 'favor')"
   ]
  },
  {
   "cell_type": "code",
   "execution_count": 71,
   "metadata": {},
   "outputs": [
    {
     "data": {
      "text/plain": [
       "0.0    24122\n",
       "1.0    17756\n",
       "Name: gunhome, dtype: int64"
      ]
     },
     "execution_count": 71,
     "metadata": {},
     "output_type": "execute_result"
    }
   ],
   "source": [
    "utils.values(sample, 'gunhome')"
   ]
  },
  {
   "cell_type": "code",
   "execution_count": 72,
   "metadata": {},
   "outputs": [
    {
     "data": {
      "text/plain": [
       "0.0    33773\n",
       "1.0     8105\n",
       "Name: threatened, dtype: int64"
      ]
     },
     "execution_count": 72,
     "metadata": {},
     "output_type": "execute_result"
    }
   ],
   "source": [
    "utils.values(sample, 'threatened')"
   ]
  },
  {
   "cell_type": "code",
   "execution_count": 73,
   "metadata": {},
   "outputs": [
    {
     "data": {
      "text/plain": [
       "0.0    13115\n",
       "1.0    28763\n",
       "Name: spendcrime, dtype: int64"
      ]
     },
     "execution_count": 73,
     "metadata": {},
     "output_type": "execute_result"
    }
   ],
   "source": [
    "utils.values(sample, 'spendcrime')"
   ]
  },
  {
   "cell_type": "code",
   "execution_count": 74,
   "metadata": {},
   "outputs": [
    {
     "data": {
      "text/plain": [
       "0.0    19838\n",
       "1.0    22040\n",
       "Name: topincome, dtype: int64"
      ]
     },
     "execution_count": 74,
     "metadata": {},
     "output_type": "execute_result"
    }
   ],
   "source": [
    "utils.values(sample, 'topincome')"
   ]
  },
  {
   "cell_type": "code",
   "execution_count": 75,
   "metadata": {
    "scrolled": false
   },
   "outputs": [
    {
     "data": {
      "text/plain": [
       "0.0    34520\n",
       "1.0     7358\n",
       "Name: lowincome, dtype: int64"
      ]
     },
     "execution_count": 75,
     "metadata": {},
     "output_type": "execute_result"
    }
   ],
   "source": [
    "utils.values(sample, 'lowincome')"
   ]
  },
  {
   "cell_type": "code",
   "execution_count": 76,
   "metadata": {},
   "outputs": [
    {
     "data": {
      "text/plain": [
       "0.0    33084\n",
       "1.0     8794\n",
       "Name: lowrealinc, dtype: int64"
      ]
     },
     "execution_count": 76,
     "metadata": {},
     "output_type": "execute_result"
    }
   ],
   "source": [
    "utils.values(sample, 'lowrealinc')"
   ]
  },
  {
   "cell_type": "code",
   "execution_count": 77,
   "metadata": {
    "scrolled": false
   },
   "outputs": [
    {
     "data": {
      "text/plain": [
       "0.0    29595\n",
       "1.0    12283\n",
       "Name: highrealinc, dtype: int64"
      ]
     },
     "execution_count": 77,
     "metadata": {},
     "output_type": "execute_result"
    }
   ],
   "source": [
    "utils.values(sample, 'highrealinc')"
   ]
  },
  {
   "cell_type": "code",
   "execution_count": 78,
   "metadata": {},
   "outputs": [
    {
     "data": {
      "text/plain": [
       "0.0    30400\n",
       "1.0    11478\n",
       "Name: liberal, dtype: int64"
      ]
     },
     "execution_count": 78,
     "metadata": {},
     "output_type": "execute_result"
    }
   ],
   "source": [
    "utils.values(sample, 'liberal')"
   ]
  },
  {
   "cell_type": "code",
   "execution_count": 79,
   "metadata": {},
   "outputs": [
    {
     "data": {
      "text/plain": [
       "0.0    25571\n",
       "1.0    16307\n",
       "Name: moderate, dtype: int64"
      ]
     },
     "execution_count": 79,
     "metadata": {},
     "output_type": "execute_result"
    }
   ],
   "source": [
    "utils.values(sample, 'moderate')"
   ]
  },
  {
   "cell_type": "code",
   "execution_count": 80,
   "metadata": {},
   "outputs": [
    {
     "data": {
      "text/plain": [
       "0.0    34318\n",
       "1.0     7560\n",
       "Name: conservative, dtype: int64"
      ]
     },
     "execution_count": 80,
     "metadata": {},
     "output_type": "execute_result"
    }
   ],
   "source": [
    "utils.values(sample, 'conservative')"
   ]
  },
  {
   "cell_type": "code",
   "execution_count": 81,
   "metadata": {},
   "outputs": [
    {
     "data": {
      "text/plain": [
       "0.0    19499\n",
       "1.0    22379\n",
       "Name: female, dtype: int64"
      ]
     },
     "execution_count": 81,
     "metadata": {},
     "output_type": "execute_result"
    }
   ],
   "source": [
    "utils.values(sample, 'female')"
   ]
  },
  {
   "cell_type": "code",
   "execution_count": 82,
   "metadata": {},
   "outputs": [
    {
     "data": {
      "text/plain": [
       "0.0    38553\n",
       "1.0     3325\n",
       "Name: ishisp, dtype: int64"
      ]
     },
     "execution_count": 82,
     "metadata": {},
     "output_type": "execute_result"
    }
   ],
   "source": [
    "utils.values(sample, 'ishisp')"
   ]
  },
  {
   "cell_type": "code",
   "execution_count": 83,
   "metadata": {},
   "outputs": [
    {
     "data": {
      "text/plain": [
       "0.0    36045\n",
       "1.0     5833\n",
       "Name: black, dtype: int64"
      ]
     },
     "execution_count": 83,
     "metadata": {},
     "output_type": "execute_result"
    }
   ],
   "source": [
    "utils.values(sample, 'black')"
   ]
  },
  {
   "cell_type": "code",
   "execution_count": 84,
   "metadata": {},
   "outputs": [
    {
     "data": {
      "text/plain": [
       "0.0    39557\n",
       "1.0     2321\n",
       "Name: otherrace, dtype: int64"
      ]
     },
     "execution_count": 84,
     "metadata": {},
     "output_type": "execute_result"
    }
   ],
   "source": [
    "utils.values(sample, 'otherrace')"
   ]
  },
  {
   "cell_type": "code",
   "execution_count": 85,
   "metadata": {},
   "outputs": [
    {
     "data": {
      "text/plain": [
       "0.0    16793\n",
       "1.0    25085\n",
       "Name: urban, dtype: int64"
      ]
     },
     "execution_count": 85,
     "metadata": {},
     "output_type": "execute_result"
    }
   ],
   "source": [
    "utils.values(sample, 'urban')"
   ]
  },
  {
   "cell_type": "code",
   "execution_count": 86,
   "metadata": {},
   "outputs": [
    {
     "data": {
      "text/plain": [
       "0.0    30599\n",
       "1.0    11279\n",
       "Name: suburban, dtype: int64"
      ]
     },
     "execution_count": 86,
     "metadata": {},
     "output_type": "execute_result"
    }
   ],
   "source": [
    "utils.values(sample, 'suburban')"
   ]
  },
  {
   "cell_type": "code",
   "execution_count": 87,
   "metadata": {},
   "outputs": [
    {
     "data": {
      "text/plain": [
       "0.0    36364\n",
       "1.0     5514\n",
       "Name: rural, dtype: int64"
      ]
     },
     "execution_count": 87,
     "metadata": {},
     "output_type": "execute_result"
    }
   ],
   "source": [
    "utils.values(sample, 'rural')"
   ]
  },
  {
   "cell_type": "code",
   "execution_count": 88,
   "metadata": {
    "scrolled": true
   },
   "outputs": [
    {
     "data": {
      "text/plain": [
       "0.0    22711\n",
       "1.0    19167\n",
       "Name: college, dtype: int64"
      ]
     },
     "execution_count": 88,
     "metadata": {},
     "output_type": "execute_result"
    }
   ],
   "source": [
    "utils.values(sample, 'college')"
   ]
  },
  {
   "cell_type": "markdown",
   "metadata": {},
   "source": [
    "## Create the resampled datasets"
   ]
  },
  {
   "cell_type": "code",
   "execution_count": 89,
   "metadata": {},
   "outputs": [],
   "source": [
    "def run_resampling(iters=101):\n",
    "    \"\"\"Run the resampling process and save the results.\n",
    "    \n",
    "    iters: number of times to run\n",
    "    \"\"\"\n",
    "    gss = utils.read_gss('gss_gun')\n",
    "    replace_invalid(gss)\n",
    "    gss = gss.dropna(subset=['gunlaw', 'age', 'cohort'])\n",
    "    \n",
    "    if cutoff:\n",
    "        filename = 'iterations2016.h5'\n",
    "        gss = gss[gss.year <= 2016]\n",
    "    else:\n",
    "        filename = 'iterations2018.h5'\n",
    "    print(filename)\n",
    "    print(gss.shape)\n",
    "    \n",
    "    for i in range(iters):\n",
    "        sample = utils.resample_by_year(gss).copy()\n",
    "        fill_all_missing(sample)\n",
    "        make_groups(sample)\n",
    "        make_booleans(sample)\n",
    "        center_factors(sample)\n",
    "\n",
    "        key = 'iter%d' % i\n",
    "        #print('Writing', key)\n",
    "        sample.to_hdf(filename, key)"
   ]
  },
  {
   "cell_type": "code",
   "execution_count": 90,
   "metadata": {},
   "outputs": [
    {
     "name": "stdout",
     "output_type": "stream",
     "text": [
      "iterations2018.h5\n",
      "(41878, 25)\n",
      "CPU times: user 1min 13s, sys: 4.18 s, total: 1min 17s\n",
      "Wall time: 46.8 s\n"
     ]
    }
   ],
   "source": [
    "%time run_resampling()"
   ]
  },
  {
   "cell_type": "code",
   "execution_count": null,
   "metadata": {},
   "outputs": [],
   "source": []
  }
 ],
 "metadata": {
  "kernelspec": {
   "display_name": "Python 3",
   "language": "python",
   "name": "python3"
  },
  "language_info": {
   "codemirror_mode": {
    "name": "ipython",
    "version": 3
   },
   "file_extension": ".py",
   "mimetype": "text/x-python",
   "name": "python",
   "nbconvert_exporter": "python",
   "pygments_lexer": "ipython3",
   "version": "3.7.3"
  }
 },
 "nbformat": 4,
 "nbformat_minor": 2
}
